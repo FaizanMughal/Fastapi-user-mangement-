{
  "nbformat": 4,
  "nbformat_minor": 0,
  "metadata": {
    "colab": {
      "provenance": []
    },
    "kernelspec": {
      "name": "python3",
      "display_name": "Python 3"
    },
    "language_info": {
      "name": "python"
    }
  },
  "cells": [
    {
      "cell_type": "code",
      "execution_count": 37,
      "metadata": {
        "colab": {
          "base_uri": "https://localhost:8080/"
        },
        "id": "Vcugn9gagKbM",
        "outputId": "49641245-db0c-4552-ec04-1408cd59ba77"
      },
      "outputs": [
        {
          "output_type": "stream",
          "name": "stdout",
          "text": [
            "Requirement already satisfied: fastapi in /usr/local/lib/python3.10/dist-packages (0.115.5)\n",
            "Requirement already satisfied: uvicorn in /usr/local/lib/python3.10/dist-packages (0.32.0)\n",
            "Requirement already satisfied: nest-asyncio in /usr/local/lib/python3.10/dist-packages (1.6.0)\n",
            "Requirement already satisfied: pyngrok in /usr/local/lib/python3.10/dist-packages (7.2.1)\n",
            "Requirement already satisfied: starlette<0.42.0,>=0.40.0 in /usr/local/lib/python3.10/dist-packages (from fastapi) (0.41.2)\n",
            "Requirement already satisfied: pydantic!=1.8,!=1.8.1,!=2.0.0,!=2.0.1,!=2.1.0,<3.0.0,>=1.7.4 in /usr/local/lib/python3.10/dist-packages (from fastapi) (2.9.2)\n",
            "Requirement already satisfied: typing-extensions>=4.8.0 in /usr/local/lib/python3.10/dist-packages (from fastapi) (4.12.2)\n",
            "Requirement already satisfied: click>=7.0 in /usr/local/lib/python3.10/dist-packages (from uvicorn) (8.1.7)\n",
            "Requirement already satisfied: h11>=0.8 in /usr/local/lib/python3.10/dist-packages (from uvicorn) (0.14.0)\n",
            "Requirement already satisfied: PyYAML>=5.1 in /usr/local/lib/python3.10/dist-packages (from pyngrok) (6.0.2)\n",
            "Requirement already satisfied: annotated-types>=0.6.0 in /usr/local/lib/python3.10/dist-packages (from pydantic!=1.8,!=1.8.1,!=2.0.0,!=2.0.1,!=2.1.0,<3.0.0,>=1.7.4->fastapi) (0.7.0)\n",
            "Requirement already satisfied: pydantic-core==2.23.4 in /usr/local/lib/python3.10/dist-packages (from pydantic!=1.8,!=1.8.1,!=2.0.0,!=2.0.1,!=2.1.0,<3.0.0,>=1.7.4->fastapi) (2.23.4)\n",
            "Requirement already satisfied: anyio<5,>=3.4.0 in /usr/local/lib/python3.10/dist-packages (from starlette<0.42.0,>=0.40.0->fastapi) (3.7.1)\n",
            "Requirement already satisfied: idna>=2.8 in /usr/local/lib/python3.10/dist-packages (from anyio<5,>=3.4.0->starlette<0.42.0,>=0.40.0->fastapi) (3.10)\n",
            "Requirement already satisfied: sniffio>=1.1 in /usr/local/lib/python3.10/dist-packages (from anyio<5,>=3.4.0->starlette<0.42.0,>=0.40.0->fastapi) (1.3.1)\n",
            "Requirement already satisfied: exceptiongroup in /usr/local/lib/python3.10/dist-packages (from anyio<5,>=3.4.0->starlette<0.42.0,>=0.40.0->fastapi) (1.2.2)\n",
            "Requirement already satisfied: passlib in /usr/local/lib/python3.10/dist-packages (1.7.4)\n",
            "Requirement already satisfied: python-jose in /usr/local/lib/python3.10/dist-packages (3.3.0)\n",
            "Requirement already satisfied: sqlalchemy in /usr/local/lib/python3.10/dist-packages (2.0.36)\n",
            "Requirement already satisfied: fastapi in /usr/local/lib/python3.10/dist-packages (0.115.5)\n",
            "Requirement already satisfied: uvicorn in /usr/local/lib/python3.10/dist-packages (0.32.0)\n",
            "Requirement already satisfied: ecdsa!=0.15 in /usr/local/lib/python3.10/dist-packages (from python-jose) (0.19.0)\n",
            "Requirement already satisfied: rsa in /usr/local/lib/python3.10/dist-packages (from python-jose) (4.9)\n",
            "Requirement already satisfied: pyasn1 in /usr/local/lib/python3.10/dist-packages (from python-jose) (0.6.1)\n",
            "Requirement already satisfied: typing-extensions>=4.6.0 in /usr/local/lib/python3.10/dist-packages (from sqlalchemy) (4.12.2)\n",
            "Requirement already satisfied: greenlet!=0.4.17 in /usr/local/lib/python3.10/dist-packages (from sqlalchemy) (3.1.1)\n",
            "Requirement already satisfied: starlette<0.42.0,>=0.40.0 in /usr/local/lib/python3.10/dist-packages (from fastapi) (0.41.2)\n",
            "Requirement already satisfied: pydantic!=1.8,!=1.8.1,!=2.0.0,!=2.0.1,!=2.1.0,<3.0.0,>=1.7.4 in /usr/local/lib/python3.10/dist-packages (from fastapi) (2.9.2)\n",
            "Requirement already satisfied: click>=7.0 in /usr/local/lib/python3.10/dist-packages (from uvicorn) (8.1.7)\n",
            "Requirement already satisfied: h11>=0.8 in /usr/local/lib/python3.10/dist-packages (from uvicorn) (0.14.0)\n",
            "Requirement already satisfied: six>=1.9.0 in /usr/local/lib/python3.10/dist-packages (from ecdsa!=0.15->python-jose) (1.16.0)\n",
            "Requirement already satisfied: annotated-types>=0.6.0 in /usr/local/lib/python3.10/dist-packages (from pydantic!=1.8,!=1.8.1,!=2.0.0,!=2.0.1,!=2.1.0,<3.0.0,>=1.7.4->fastapi) (0.7.0)\n",
            "Requirement already satisfied: pydantic-core==2.23.4 in /usr/local/lib/python3.10/dist-packages (from pydantic!=1.8,!=1.8.1,!=2.0.0,!=2.0.1,!=2.1.0,<3.0.0,>=1.7.4->fastapi) (2.23.4)\n",
            "Requirement already satisfied: anyio<5,>=3.4.0 in /usr/local/lib/python3.10/dist-packages (from starlette<0.42.0,>=0.40.0->fastapi) (3.7.1)\n",
            "Requirement already satisfied: idna>=2.8 in /usr/local/lib/python3.10/dist-packages (from anyio<5,>=3.4.0->starlette<0.42.0,>=0.40.0->fastapi) (3.10)\n",
            "Requirement already satisfied: sniffio>=1.1 in /usr/local/lib/python3.10/dist-packages (from anyio<5,>=3.4.0->starlette<0.42.0,>=0.40.0->fastapi) (1.3.1)\n",
            "Requirement already satisfied: exceptiongroup in /usr/local/lib/python3.10/dist-packages (from anyio<5,>=3.4.0->starlette<0.42.0,>=0.40.0->fastapi) (1.2.2)\n",
            "Requirement already satisfied: python-multipart in /usr/local/lib/python3.10/dist-packages (0.0.17)\n"
          ]
        }
      ],
      "source": [
        "!pip install fastapi uvicorn nest-asyncio pyngrok\n",
        "!pip install passlib python-jose sqlalchemy fastapi uvicorn\n",
        "!pip install python-multipart\n",
        "\n"
      ]
    },
    {
      "cell_type": "code",
      "source": [
        "import os\n",
        "\n",
        "SECRET_KEY = os.getenv(\"SECRET_KEY\", \"default_secret_key\")\n",
        "print(SECRET_KEY)\n"
      ],
      "metadata": {
        "colab": {
          "base_uri": "https://localhost:8080/"
        },
        "id": "TZ7HVM4ppwLk",
        "outputId": "4dd17a8d-356a-4208-efad-544308b24b53"
      },
      "execution_count": 38,
      "outputs": [
        {
          "output_type": "stream",
          "name": "stdout",
          "text": [
            "default_secret_key\n"
          ]
        }
      ]
    },
    {
      "cell_type": "code",
      "source": [
        "%%writefile main.py\n",
        "\n",
        "from fastapi import FastAPI, Depends, HTTPException, Form\n",
        "from fastapi.security import OAuth2PasswordBearer, OAuth2PasswordRequestForm\n",
        "from pydantic import BaseModel\n",
        "from sqlalchemy import create_engine, Column, Integer, String, Boolean\n",
        "from sqlalchemy.ext.declarative import declarative_base\n",
        "from sqlalchemy.orm import sessionmaker, Session\n",
        "from passlib.context import CryptContext\n",
        "from jose import jwt\n",
        "from datetime import datetime, timedelta\n",
        "\n",
        "# Configuration\n",
        "SECRET_KEY = \"default_secret_key\"\n",
        "ALGORITHM = \"HS256\"\n",
        "ACCESS_TOKEN_EXPIRE_MINUTES = 30\n",
        "DATABASE_URL = \"sqlite:///./test.db\"\n",
        "\n",
        "# Database Setup\n",
        "engine = create_engine(DATABASE_URL, connect_args={\"check_same_thread\": False})\n",
        "SessionLocal = sessionmaker(autocommit=False, autoflush=False, bind=engine)\n",
        "Base = declarative_base()\n",
        "\n",
        "pwd_context = CryptContext(schemes=[\"bcrypt\"], deprecated=\"auto\")\n",
        "\n",
        "def get_password_hash(password: str):\n",
        "    return pwd_context.hash(password)\n",
        "\n",
        "def verify_password(plain_password: str, hashed_password: str):\n",
        "    return pwd_context.verify(plain_password, hashed_password)\n",
        "\n",
        "def create_access_token(data: dict):\n",
        "    to_encode = data.copy()\n",
        "    expire = datetime.utcnow() + timedelta(minutes=ACCESS_TOKEN_EXPIRE_MINUTES)\n",
        "    to_encode.update({\"exp\": expire})\n",
        "    return jwt.encode(to_encode, SECRET_KEY, algorithm=ALGORITHM)\n",
        "\n",
        "oauth2_scheme = OAuth2PasswordBearer(tokenUrl=\"token\")\n",
        "\n",
        "class User(Base):\n",
        "    __tablename__ = \"users\"\n",
        "    id = Column(Integer, primary_key=True, index=True)\n",
        "    username = Column(String, unique=True, index=True)\n",
        "    email = Column(String, unique=True, index=True)\n",
        "    hashed_password = Column(String)\n",
        "    is_active = Column(Boolean, default=True)\n",
        "\n",
        "Base.metadata.create_all(bind=engine)\n",
        "\n",
        "class UserIn(BaseModel):\n",
        "    username: str\n",
        "    email: str\n",
        "    password: str\n",
        "\n",
        "class UserOut(BaseModel):\n",
        "    username: str\n",
        "    email: str\n",
        "\n",
        "def get_db():\n",
        "    db = SessionLocal()\n",
        "    try:\n",
        "        yield db\n",
        "    finally:\n",
        "        db.close()\n",
        "\n",
        "def get_current_user(token: str = Depends(oauth2_scheme), db: Session = Depends(get_db)):\n",
        "    try:\n",
        "        payload = jwt.decode(token, SECRET_KEY, algorithms=[ALGORITHM])\n",
        "        username = payload.get(\"sub\")\n",
        "        if username is None:\n",
        "            raise HTTPException(status_code=401, detail=\"Invalid authentication credentials\")\n",
        "        user = db.query(User).filter(User.username == username).first()\n",
        "        if user is None:\n",
        "            raise HTTPException(status_code=401, detail=\"Invalid authentication credentials\")\n",
        "        return user\n",
        "    except jwt.JWTError:\n",
        "        raise HTTPException(status_code=401, detail=\"Invalid authentication credentials\")\n",
        "\n",
        "app = FastAPI()\n",
        "\n",
        "@app.post(\"/register\", response_model=UserOut)\n",
        "def register(user: UserIn, db: Session = Depends(get_db)):\n",
        "    db_user = db.query(User).filter((User.username == user.username) | (User.email == user.email)).first()\n",
        "    if db_user:\n",
        "        raise HTTPException(status_code=400, detail=\"Username or email already registered\")\n",
        "    hashed_password = get_password_hash(user.password)\n",
        "    new_user = User(username=user.username, email=user.email, hashed_password=hashed_password)\n",
        "    db.add(new_user)\n",
        "    db.commit()\n",
        "    db.refresh(new_user)\n",
        "    return new_user\n",
        "\n",
        "@app.post(\"/token\")\n",
        "def login(form_data: OAuth2PasswordRequestForm = Depends(), db: Session = Depends(get_db)):\n",
        "    user = db.query(User).filter(User.username == form_data.username).first()\n",
        "    if not user or not verify_password(form_data.password, user.hashed_password):\n",
        "        raise HTTPException(status_code=400, detail=\"Invalid username or password\")\n",
        "    access_token = create_access_token(data={\"sub\": user.username})\n",
        "    return {\"access_token\": access_token, \"token_type\": \"bearer\"}\n",
        "\n",
        "@app.get(\"/profile\", response_model=UserOut)\n",
        "def profile(current_user: User = Depends(get_current_user)):\n",
        "    return current_user\n"
      ],
      "metadata": {
        "colab": {
          "base_uri": "https://localhost:8080/"
        },
        "id": "_rrqaj6SgMvl",
        "outputId": "37d613e8-8971-424b-c8d9-541d48f903a4"
      },
      "execution_count": 39,
      "outputs": [
        {
          "output_type": "stream",
          "name": "stdout",
          "text": [
            "Overwriting main.py\n"
          ]
        }
      ]
    },
    {
      "cell_type": "code",
      "source": [
        "!ngrok config add-authtoken 2otPD1PnMnVXgtxAfOkn9mt9FEG_5aVffF6NZe2zokkU8ssbi\n"
      ],
      "metadata": {
        "colab": {
          "base_uri": "https://localhost:8080/"
        },
        "id": "WC7PDh1Vgcmu",
        "outputId": "fd22abd3-6557-4a72-d984-07625acf16c2"
      },
      "execution_count": 40,
      "outputs": [
        {
          "output_type": "stream",
          "name": "stdout",
          "text": [
            "Authtoken saved to configuration file: /root/.config/ngrok/ngrok.yml\n"
          ]
        }
      ]
    },
    {
      "cell_type": "code",
      "source": [
        "from fastapi import FastAPI\n",
        "\n",
        "app = FastAPI()\n",
        "\n",
        "@app.get(\"/some_path\")\n",
        "async def read_item():\n",
        "    return {\"message\": \"This is some path!\"}\n"
      ],
      "metadata": {
        "id": "t70JAahTnnMi"
      },
      "execution_count": 41,
      "outputs": []
    },
    {
      "cell_type": "code",
      "source": [
        "import nest_asyncio\n",
        "from pyngrok import ngrok\n",
        "import uvicorn\n",
        "\n",
        "# Allow nested event loops\n",
        "nest_asyncio.apply()\n",
        "\n",
        "# Expose the app to the internet\n",
        "public_url = ngrok.connect(8000)\n",
        "print(f\"Public URL: {public_url}\")\n",
        "\n",
        "\n"
      ],
      "metadata": {
        "colab": {
          "base_uri": "https://localhost:8080/"
        },
        "id": "vYWgvS-LiaSe",
        "outputId": "2097914a-1dcd-4332-f53f-ad16870d19e9"
      },
      "execution_count": 42,
      "outputs": [
        {
          "output_type": "stream",
          "name": "stdout",
          "text": [
            "Public URL: NgrokTunnel: \"https://eb13-34-55-179-145.ngrok-free.app\" -> \"http://localhost:8000\"\n"
          ]
        }
      ]
    },
    {
      "cell_type": "code",
      "source": [
        "# Start the FastAPI app\n",
        "uvicorn.run(\"main:app\", host=\"0.0.0.0\", port=8000)"
      ],
      "metadata": {
        "colab": {
          "base_uri": "https://localhost:8080/"
        },
        "id": "ChrpuNmRifrM",
        "outputId": "b98b3d97-a313-4c40-bd93-e742cacfdf16"
      },
      "execution_count": 43,
      "outputs": [
        {
          "output_type": "stream",
          "name": "stderr",
          "text": [
            "INFO:     Started server process [571]\n",
            "INFO:     Waiting for application startup.\n",
            "INFO:     Application startup complete.\n",
            "INFO:     Uvicorn running on http://0.0.0.0:8000 (Press CTRL+C to quit)\n"
          ]
        },
        {
          "output_type": "stream",
          "name": "stdout",
          "text": [
            "INFO:     2407:aa80:116:86c0:41e7:d50:ccc3:860:0 - \"GET / HTTP/1.1\" 404 Not Found\n",
            "INFO:     2407:aa80:116:86c0:41e7:d50:ccc3:860:0 - \"GET /favicon.ico HTTP/1.1\" 404 Not Found\n",
            "INFO:     2407:aa80:116:86c0:41e7:d50:ccc3:860:0 - \"GET / HTTP/1.1\" 404 Not Found\n"
          ]
        },
        {
          "output_type": "stream",
          "name": "stderr",
          "text": [
            "INFO:     Shutting down\n",
            "INFO:     Waiting for application shutdown.\n",
            "INFO:     Application shutdown complete.\n",
            "INFO:     Finished server process [571]\n"
          ]
        }
      ]
    }
  ]
}